{
  "nbformat": 4,
  "nbformat_minor": 0,
  "metadata": {
    "colab": {
      "provenance": [],
      "authorship_tag": "ABX9TyM3nsODNAcv2k4aq3iszc14",
      "include_colab_link": true
    },
    "kernelspec": {
      "name": "python3",
      "display_name": "Python 3"
    },
    "language_info": {
      "name": "python"
    },
    "accelerator": "TPU",
    "gpuClass": "standard"
  },
  "cells": [
    {
      "cell_type": "markdown",
      "metadata": {
        "id": "view-in-github",
        "colab_type": "text"
      },
      "source": [
        "<a href=\"https://colab.research.google.com/github/daanh99/logbert/blob/main/main.ipynb\" target=\"_parent\"><img src=\"https://colab.research.google.com/assets/colab-badge.svg\" alt=\"Open In Colab\"/></a>"
      ]
    },
    {
      "cell_type": "code",
      "source": [
        "!git clone https://github.com/HelenGuohx/logbert\n",
        "!pip install bert_pytorch\n",
        "!pip install logdeep\n",
        "!pip install logparser"
      ],
      "metadata": {
        "colab": {
          "base_uri": "https://localhost:8080/"
        },
        "id": "6OgJkC75CZ4p",
        "outputId": "8418ce76-48ba-4524-df5f-e7c711ab05fa"
      },
      "execution_count": 25,
      "outputs": [
        {
          "output_type": "stream",
          "name": "stdout",
          "text": [
            "fatal: destination path 'logbert' already exists and is not an empty directory.\n",
            "Looking in indexes: https://pypi.org/simple, https://us-python.pkg.dev/colab-wheels/public/simple/\n",
            "Requirement already satisfied: bert_pytorch in /usr/local/lib/python3.8/dist-packages (0.0.1a4)\n",
            "Requirement already satisfied: tqdm in /usr/local/lib/python3.8/dist-packages (from bert_pytorch) (4.64.1)\n",
            "Requirement already satisfied: numpy in /usr/local/lib/python3.8/dist-packages (from bert_pytorch) (1.22.4)\n",
            "Requirement already satisfied: torch>=0.4.0 in /usr/local/lib/python3.8/dist-packages (from bert_pytorch) (1.13.1+cu116)\n",
            "Requirement already satisfied: typing-extensions in /usr/local/lib/python3.8/dist-packages (from torch>=0.4.0->bert_pytorch) (4.5.0)\n",
            "Looking in indexes: https://pypi.org/simple, https://us-python.pkg.dev/colab-wheels/public/simple/\n",
            "\u001b[31mERROR: Could not find a version that satisfies the requirement logdeep (from versions: none)\u001b[0m\u001b[31m\n",
            "\u001b[0m\u001b[31mERROR: No matching distribution found for logdeep\u001b[0m\u001b[31m\n",
            "\u001b[0mLooking in indexes: https://pypi.org/simple, https://us-python.pkg.dev/colab-wheels/public/simple/\n",
            "Collecting logparser\n",
            "  Downloading logparser-0.8.2-py3-none-any.whl (37 kB)\n",
            "Requirement already satisfied: pexpect>=4.7.0 in /usr/local/lib/python3.8/dist-packages (from logparser) (4.8.0)\n",
            "Requirement already satisfied: six>=1.12.0 in /usr/local/lib/python3.8/dist-packages (from logparser) (1.15.0)\n",
            "Requirement already satisfied: ptyprocess>=0.5 in /usr/local/lib/python3.8/dist-packages (from pexpect>=4.7.0->logparser) (0.7.0)\n",
            "Installing collected packages: logparser\n",
            "Successfully installed logparser-0.8.2\n"
          ]
        }
      ]
    },
    {
      "cell_type": "code",
      "source": [
        "import os\n",
        "import tensorflow as tf\n",
        "\n",
        "assert 'COLAB_TPU_ADDR' in os.environ, 'ERROR: Not connected to a TPU runtime; please see the first cell in this notebook for instructions!'\n",
        "TPU_ADDRESS = 'grpc://' + os.environ['COLAB_TPU_ADDR']\n",
        "print('TPU address is', TPU_ADDRESS)\n",
        "\n",
        "from google.colab import auth\n",
        "auth.authenticate_user()\n",
        "with tf.Session(TPU_ADDRESS) as session:\n",
        "  print('TPU devices:')\n",
        "  pprint.pprint(session.list_devices())\n",
        "\n",
        "  # Upload credentials to TPU.\n",
        "  with open('/content/adc.json', 'r') as f:\n",
        "    auth_info = json.load(f)\n",
        "  tf.contrib.cloud.configure_gcs(session, credentials=auth_info)\n",
        "  # Now credentials are set for all future sessions on this TPU."
      ],
      "metadata": {
        "colab": {
          "base_uri": "https://localhost:8080/",
          "height": 252
        },
        "id": "gzxjAs7JC5dq",
        "outputId": "13576e84-4db3-4040-e451-bce7ffe4dfe3"
      },
      "execution_count": 17,
      "outputs": [
        {
          "output_type": "stream",
          "name": "stdout",
          "text": [
            "TPU address is grpc://10.52.252.138:8470\n"
          ]
        },
        {
          "output_type": "error",
          "ename": "AttributeError",
          "evalue": "ignored",
          "traceback": [
            "\u001b[0;31m---------------------------------------------------------------------------\u001b[0m",
            "\u001b[0;31mAttributeError\u001b[0m                            Traceback (most recent call last)",
            "\u001b[0;32m<ipython-input-17-8a22503ccf20>\u001b[0m in \u001b[0;36m<module>\u001b[0;34m\u001b[0m\n\u001b[1;32m      8\u001b[0m \u001b[0;32mfrom\u001b[0m \u001b[0mgoogle\u001b[0m\u001b[0;34m.\u001b[0m\u001b[0mcolab\u001b[0m \u001b[0;32mimport\u001b[0m \u001b[0mauth\u001b[0m\u001b[0;34m\u001b[0m\u001b[0;34m\u001b[0m\u001b[0m\n\u001b[1;32m      9\u001b[0m \u001b[0mauth\u001b[0m\u001b[0;34m.\u001b[0m\u001b[0mauthenticate_user\u001b[0m\u001b[0;34m(\u001b[0m\u001b[0;34m)\u001b[0m\u001b[0;34m\u001b[0m\u001b[0;34m\u001b[0m\u001b[0m\n\u001b[0;32m---> 10\u001b[0;31m \u001b[0;32mwith\u001b[0m \u001b[0mtf\u001b[0m\u001b[0;34m.\u001b[0m\u001b[0mSession\u001b[0m\u001b[0;34m(\u001b[0m\u001b[0mTPU_ADDRESS\u001b[0m\u001b[0;34m)\u001b[0m \u001b[0;32mas\u001b[0m \u001b[0msession\u001b[0m\u001b[0;34m:\u001b[0m\u001b[0;34m\u001b[0m\u001b[0;34m\u001b[0m\u001b[0m\n\u001b[0m\u001b[1;32m     11\u001b[0m   \u001b[0mprint\u001b[0m\u001b[0;34m(\u001b[0m\u001b[0;34m'TPU devices:'\u001b[0m\u001b[0;34m)\u001b[0m\u001b[0;34m\u001b[0m\u001b[0;34m\u001b[0m\u001b[0m\n\u001b[1;32m     12\u001b[0m   \u001b[0mpprint\u001b[0m\u001b[0;34m.\u001b[0m\u001b[0mpprint\u001b[0m\u001b[0;34m(\u001b[0m\u001b[0msession\u001b[0m\u001b[0;34m.\u001b[0m\u001b[0mlist_devices\u001b[0m\u001b[0;34m(\u001b[0m\u001b[0;34m)\u001b[0m\u001b[0;34m)\u001b[0m\u001b[0;34m\u001b[0m\u001b[0;34m\u001b[0m\u001b[0m\n",
            "\u001b[0;31mAttributeError\u001b[0m: module 'tensorflow' has no attribute 'Session'"
          ]
        }
      ]
    },
    {
      "cell_type": "code",
      "execution_count": 22,
      "metadata": {
        "colab": {
          "base_uri": "https://localhost:8080/"
        },
        "id": "sFr8JfRHCOqj",
        "outputId": "8d111a09-548f-423e-a2c5-687e8fbabd87"
      },
      "outputs": [
        {
          "output_type": "stream",
          "name": "stdout",
          "text": [
            "sh: 0: Can't open init.sh\n",
            "Traceback (most recent call last):\n",
            "  File \"logbert/BGL/data_process.py\", line 8, in <module>\n",
            "    from logparser import Spell, Drain\n",
            "ModuleNotFoundError: No module named 'logparser'\n",
            "Traceback (most recent call last):\n",
            "  File \"logbert/BGL/logbert.py\", line 13, in <module>\n",
            "    from bert_pytorch.dataset import WordVocab\n",
            "ModuleNotFoundError: No module named 'bert_pytorch'\n",
            "Traceback (most recent call last):\n",
            "  File \"logbert/BGL/logbert.py\", line 13, in <module>\n",
            "    from bert_pytorch.dataset import WordVocab\n",
            "ModuleNotFoundError: No module named 'bert_pytorch'\n",
            "Traceback (most recent call last):\n",
            "  File \"logbert/BGL/logbert.py\", line 13, in <module>\n",
            "    from bert_pytorch.dataset import WordVocab\n",
            "ModuleNotFoundError: No module named 'bert_pytorch'\n",
            "Traceback (most recent call last):\n",
            "  File \"logbert/BGL/deeplog.py\", line 7, in <module>\n",
            "    from logdeep.models.lstm import *\n",
            "ModuleNotFoundError: No module named 'logdeep'\n",
            "Traceback (most recent call last):\n",
            "  File \"logbert/BGL/deeplog.py\", line 7, in <module>\n",
            "    from logdeep.models.lstm import *\n",
            "ModuleNotFoundError: No module named 'logdeep'\n",
            "Traceback (most recent call last):\n",
            "  File \"logbert/BGL/deeplog.py\", line 7, in <module>\n",
            "    from logdeep.models.lstm import *\n",
            "ModuleNotFoundError: No module named 'logdeep'\n",
            "Traceback (most recent call last):\n",
            "  File \"logbert/BGL/loganomaly.py\", line 6, in <module>\n",
            "    from logdeep.models.lstm import *\n",
            "ModuleNotFoundError: No module named 'logdeep'\n",
            "Traceback (most recent call last):\n",
            "  File \"logbert/BGL/loganomaly.py\", line 6, in <module>\n",
            "    from logdeep.models.lstm import *\n",
            "ModuleNotFoundError: No module named 'logdeep'\n",
            "Traceback (most recent call last):\n",
            "  File \"logbert/BGL/loganomaly.py\", line 6, in <module>\n",
            "    from logdeep.models.lstm import *\n",
            "ModuleNotFoundError: No module named 'logdeep'\n",
            "/bin/bash: logbert/BGL/baselines.ipynb: Permission denied\n"
          ]
        }
      ],
      "source": [
        "import sys\n",
        "\n",
        "sys.path.append('logbert/BGL')\n",
        "\n",
        "!sh init.sh\n",
        "\n",
        "# process data\n",
        "!python logbert/BGL/data_process.py\n",
        "\n",
        "#run logbert\n",
        "!python logbert/BGL/logbert.py vocab\n",
        "!python logbert/BGL/logbert.py train\n",
        "!python logbert/BGL/logbert.py predict\n",
        "\n",
        "#run deeplog\n",
        "!python logbert/BGL/deeplog.py vocab\n",
        "# set options[\"vocab_size\"] = <vocab output> above\n",
        "!python logbert/BGL/deeplog.py train\n",
        "!python logbert/BGL/deeplog.py predict \n",
        "\n",
        "#run loganomaly\n",
        "!python logbert/BGL/loganomaly.py vocab\n",
        "# set options[\"vocab_size\"] = <vocab output> above\n",
        "!python logbert/BGL/loganomaly.py train\n",
        "!python logbert/BGL/loganomaly.py predict\n",
        "\n",
        "#run baselines\n",
        "\n",
        "!logbert/BGL/baselines.ipynb"
      ]
    }
  ]
}